{
 "cells": [
  {
   "cell_type": "markdown",
   "metadata": {
    "run_control": {
     "marked": true
    }
   },
   "source": [
    "# Treino e Teste, Validação Cruzada e Regressão Linear"
   ]
  },
  {
   "cell_type": "markdown",
   "metadata": {
    "run_control": {
     "marked": true
    }
   },
   "source": [
    "## Introdução\n",
    "\n",
    "Trabalharemos com uma base de dados sobre [preços de imóveis em Ames, Iowa](https://www.kaggle.com/c/house-prices-advanced-regression-techniques). \n",
    "\n",
    "Essa base possui um número grande de atributos descritos a seguir.\n",
    "\n",
    "### Variável alvo\n",
    "\n",
    "* SalePrice: O preço do imóvel em dólar. \n",
    "\n",
    "\n",
    "### Atributos\n",
    "\n",
    "<table>\n",
    "  <tbody>    \n",
    "    <tr valign=\"top\">\n",
    "      <td valign=\"top\">\n",
    "        <ul>\n",
    "          <li>MoSold: Mês da Venda</li>\n",
    "          <li>YrSold: Ano da Venda</li><br>\n",
    "          \n",
    "          <li>SaleType: Tipo da venda</li>\n",
    "          <li>SaleCondition: Condição da venda</li><br>\n",
    "\n",
    "          <li>MSSubClass: O tipo de construção</li>\n",
    "          <li>MSZoning: Classificação da região</li><br>\n",
    "\n",
    "          <li>Neighborhood: Bairro</li>\n",
    "          <li>Street: Tipo de via de acesso</li>\n",
    "          <li>Alley: Tipo de via atrás da construção</li><br>\n",
    "\n",
    "          <li>LotArea: Área em pés ao quadrado</li>\n",
    "          <li>LotConfig: Configuração do loteamento</li>\n",
    "          <li>LotFrontage: Comprimento da rua de acesso</li>\n",
    "          <li>LotShape: Forma geral da propriedade</li><br>\n",
    "\n",
    "          <li>LandSlope: Inclinação da propriedade</li>\n",
    "          <li>LandContour: Contorno plano</li><br>\n",
    "\n",
    "          <li>YearBuilt: Data original da construção</li>\n",
    "          <li>YearRemodAdd: Data de reforma</li>\n",
    "          <li>OverallQual: Material e qualidade de acabamento</li>\n",
    "          <li>OverallCond: Nota de condições gerais</li><br>\n",
    "\n",
    "          <li>Utilities: Tipo de serviços encontrados</li>\n",
    "          <li>Foundation: Tipo de fundação</li>\n",
    "          <li>Functional: Nota da funcionalidade</li><br>\n",
    "\n",
    "          <li>BldgType: Tipo de moradia</li>\n",
    "          <li>HouseStyle: Estilo de moradia</li><br>\n",
    "          \n",
    "          <li>1stFlrSF: Pés quadrados do primeiro andar</li>\n",
    "          <li>2ndFlrSF: Pés quadrados do segundo andar</li>\n",
    "          <li>LowQualFinSF: Acabamento de baixa qualidade por metro quadrado</li>\n",
    "          <li>GrLivArea: Acima da média qualidade da área útil</li>\n",
    "          <li>TotRmsAbvGrd: Total de quartos acima do solo</li><br>\n",
    "\n",
    "          <li>Condition1: Proximidade a rodovia ou ferrovia</li>\n",
    "          <li>Condition2: Proximidade a uma segunda rodovia ou fererovia</li><br>\n",
    "          \n",
    "          <li>RoofStyle: Tipo de telhado</li>\n",
    "          <li>RoofMatl: Material do telhado</li><br>\n",
    "\n",
    "          <li>ExterQual: Qualidade do material externo</li>\n",
    "          <li>ExterCond: Condição atual do material externo</li>\n",
    "          <li>Exterior1st: Cobertura exterior do imóvel</li>\n",
    "          <li>Exterior2nd: Segundo tipo de cobertura exterior</li><br><br>\n",
    "          \n",
    "        </ul>\n",
    "      </td>\n",
    "      \n",
    "      <td valign=\"top\">\n",
    "        <ul>\n",
    "          <li>MasVnrType: Masonry veneer type</li>\n",
    "          <li>MasVnrArea: Masonry veneer area in square feet</li><br>\n",
    "          \n",
    "          <li>WoodDeckSF: Wood deck area in square feet</li>\n",
    "          <li>OpenPorchSF: Open porch area in square feet</li>\n",
    "          <li>EnclosedPorch: Enclosed porch area in square feet</li>\n",
    "          <li>3SsnPorch: Three season porch area in square feet</li>\n",
    "          <li>ScreenPorch: Screen porch area in square feet</li><br>\n",
    "\n",
    "          <li>PoolArea: Pool area in square feet</li>\n",
    "          <li>PoolQC: Pool quality</li>\n",
    "          <li>Fence: Fence quality</li>\n",
    "          <li>PavedDrive: Paved driveway</li><br>\n",
    "\n",
    "          <li>GarageType: Garage location</li>\n",
    "          <li>GarageYrBlt: Year garage was built</li>\n",
    "          <li>GarageFinish: Interior finish of the garage</li>\n",
    "          <li>GarageCars: Size of garage in car capacity</li>\n",
    "          <li>GarageArea: Size of garage in square feet</li>\n",
    "          <li>GarageQual: Garage quality</li>\n",
    "          <li>GarageCond: Garage condition</li><br>\n",
    "\n",
    "          <li>Heating: Type of heating</li>\n",
    "          <li>HeatingQC: Heating quality and condition</li>\n",
    "          <li>CentralAir: Central air conditioning</li>\n",
    "          <li>Electrical: Electrical system</li><br>\n",
    "          \n",
    "          <li>FullBath: Full bathrooms above grade</li>\n",
    "          <li>HalfBath: Half baths above grade</li><br>\n",
    "          \n",
    "          <li>BedroomAbvGr: Number of bedrooms above basement level</li><br>\n",
    "          \n",
    "          <li>KitchenAbvGr: Number of kitchens</li>\n",
    "          <li>KitchenQual: Kitchen quality</li><br>\n",
    "          \n",
    "          <li>Fireplaces: Number of fireplaces</li>\n",
    "          <li>FireplaceQu: Fireplace quality</li><br>\n",
    "          \n",
    "          <li>MiscFeature: Miscellaneous feature not covered in other categories</li>\n",
    "          <li>MiscVal: Value of miscellaneous feature</li><br>\n",
    "          \n",
    "          <li>BsmtQual: Height of the basement</li>\n",
    "          <li>BsmtCond: General condition of the basement</li>\n",
    "          <li>BsmtExposure: Walkout or garden level basement walls</li>\n",
    "          <li>BsmtFinType1: Quality of basement finished area</li>\n",
    "          <li>BsmtFinSF1: Type 1 finished square feet</li>\n",
    "          <li>BsmtFinType2: Quality of second finished area (if present)</li>\n",
    "          <li>BsmtFinSF2: Type 2 finished square feet</li>\n",
    "          <li>BsmtUnfSF: Unfinished square feet of basement area</li>\n",
    "          <li>BsmtFullBath: Basement full bathrooms</li>\n",
    "          <li>BsmtHalfBath: Basement half bathrooms</li>\n",
    "          <li>TotalBsmtSF: Total square feet of basement area</li>\n",
    "        </ul>\n",
    "      </td>\n",
    "    </tr>\n",
    "    \n",
    "  </tbody>\n",
    "</table>\n"
   ]
  },
  {
   "cell_type": "markdown",
   "metadata": {
    "run_control": {
     "marked": true
    }
   },
   "source": [
    "## Exercício 1\n",
    "\n",
    "* Importe os dados usando Pandas e examine a dimensão da base. Existem 79 atributos mais o preditor, o preço de venda (`SalePrice`). \n",
    "* Existem três diferentes tipos: integers (`int64`), floats (`float64`), e strings (`object`, categóricos). Examine quantos existem de cada tipo. "
   ]
  },
  {
   "cell_type": "code",
   "execution_count": 1,
   "metadata": {
    "run_control": {
     "marked": true
    }
   },
   "outputs": [
    {
     "name": "stdout",
     "output_type": "stream",
     "text": [
      "São 1379 linhas e 80 colunas\n"
     ]
    }
   ],
   "source": [
    "import pandas as pd\n",
    "import numpy as np\n",
    "\n",
    "filepath = 'data/Ames_Housing_Sales.csv'\n",
    "data = pd.read_csv(filepath, sep=',')\n",
    "\n",
    "# imprima a dimensão da base\n",
    "print('São',data.shape[0],'linhas e',data.shape[1],'colunas')"
   ]
  },
  {
   "cell_type": "code",
   "execution_count": 2,
   "metadata": {
    "run_control": {
     "marked": true
    }
   },
   "outputs": [
    {
     "name": "stdout",
     "output_type": "stream",
     "text": [
      "43 dados do tipo object\n",
      "21 dados do tipo float64\n",
      "16 dados do tipo int64\n"
     ]
    }
   ],
   "source": [
    "# Use o método value_counts() no atributo dtypes\n",
    "types = data.dtypes.value_counts()\n",
    "for i in range(len(types)):\n",
    "    print('%d dados do tipo %s' % (types[i], types.index[i]))"
   ]
  },
  {
   "cell_type": "markdown",
   "metadata": {
    "run_control": {
     "marked": true
    }
   },
   "source": [
    "## Exercício 2\n",
    "\n",
    "Como discutido em aula, um desafio da área de Aprendizado de Máquina, principalmente quando lidamos com dados com muitos atributos, é garantir que cada coluna seja codificada corretamente.\n",
    "\n",
    "Isso é particularmente verdade com atributos que são ordinais e categóricos sem ordem. Os categóricos sem ordem devem ser codificados de forma binária através do procedimento One-hot-encoding, porém isso costuma aumentar significativamente o total de atributos e cria atributos altamente correlacionados.\n",
    "\n",
    "Determine o total de atributos de nossa base se todos os atributos categóricos fossem convertidos para binários. Lembre-se que para um atributo categórico com `n` valores, precisamos apenas de `n-1` atributos para representá-lo de forma binária."
   ]
  },
  {
   "cell_type": "code",
   "execution_count": 3,
   "metadata": {
    "run_control": {
     "marked": true
    }
   },
   "outputs": [
    {
     "data": {
      "text/plain": [
       "Index(['Alley', 'BldgType', 'BsmtCond', 'BsmtExposure', 'BsmtFinType1',\n",
       "       'BsmtFinType2', 'BsmtQual', 'CentralAir', 'Condition1', 'Condition2',\n",
       "       'Electrical', 'ExterCond', 'ExterQual', 'Exterior1st', 'Exterior2nd',\n",
       "       'Fence', 'FireplaceQu', 'Foundation', 'Functional', 'GarageCond',\n",
       "       'GarageFinish', 'GarageQual', 'GarageType', 'Heating', 'HeatingQC',\n",
       "       'HouseStyle', 'KitchenQual', 'LandContour', 'LandSlope', 'LotConfig',\n",
       "       'LotShape', 'MSZoning', 'MasVnrType', 'MiscFeature', 'Neighborhood',\n",
       "       'PavedDrive', 'PoolQC', 'RoofMatl', 'RoofStyle', 'SaleCondition',\n",
       "       'SaleType', 'Street', 'Utilities'],\n",
       "      dtype='object')"
      ]
     },
     "execution_count": 3,
     "metadata": {},
     "output_type": "execute_result"
    }
   ],
   "source": [
    "# Selecione apenas os tipos object\n",
    "mask = data.dtypes == np.object\n",
    "categorical_cols = data.columns[mask]\n",
    "categorical_cols"
   ]
  },
  {
   "cell_type": "code",
   "execution_count": 4,
   "metadata": {
    "run_control": {
     "marked": true
    }
   },
   "outputs": [
    {
     "name": "stdout",
     "output_type": "stream",
     "text": [
      "Utilities         2\n",
      "Street            2\n",
      "CentralAir        2\n",
      "PavedDrive        3\n",
      "LandSlope         3\n",
      "GarageFinish      3\n",
      "Alley             3\n",
      "PoolQC            4\n",
      "ExterCond         4\n",
      "ExterQual         4\n",
      "MasVnrType        4\n",
      "LotShape          4\n",
      "BsmtCond          4\n",
      "LandContour       4\n",
      "KitchenQual       4\n",
      "HeatingQC         5\n",
      "BldgType          5\n",
      "MiscFeature       5\n",
      "MSZoning          5\n",
      "LotConfig         5\n",
      "BsmtQual          5\n",
      "GarageQual        5\n",
      "GarageCond        5\n",
      "Fence             5\n",
      "Electrical        5\n",
      "BsmtExposure      5\n",
      "GarageType        6\n",
      "Heating           6\n",
      "BsmtFinType1      6\n",
      "SaleCondition     6\n",
      "RoofStyle         6\n",
      "Foundation        6\n",
      "FireplaceQu       6\n",
      "BsmtFinType2      7\n",
      "Functional        7\n",
      "Condition2        8\n",
      "RoofMatl          8\n",
      "HouseStyle        8\n",
      "Condition1        9\n",
      "SaleType          9\n",
      "Exterior1st      14\n",
      "Exterior2nd      16\n",
      "Neighborhood     25\n",
      "dtype: int64\n"
     ]
    }
   ],
   "source": [
    "# Determine quantos atributos seriam criados\n",
    "# Dica: aplique (apply) o método nunique no dataframe nas colunas categorical_cols\n",
    "# opcionalmente ordene os valores utilizando sort_values\n",
    "# verifique a saída\n",
    "num_ohc_cols = data[categorical_cols].nunique().sort_values()\n",
    "print(num_ohc_cols)"
   ]
  },
  {
   "cell_type": "code",
   "execution_count": 5,
   "metadata": {},
   "outputs": [
    {
     "name": "stdout",
     "output_type": "stream",
     "text": [
      "215 novos atributos\n"
     ]
    }
   ],
   "source": [
    "# Elimine do resultado toda coluna com apenas 1 valor categórico\n",
    "more_than_one_val = num_ohc_cols != 1\n",
    "num_ohc_cols = num_ohc_cols[more_than_one_val]\n",
    "# Subtraia em um os valores\n",
    "# Faça a soma dos valores, a quantidade de novos atributos é significativo!\n",
    "print(sum(num_ohc_cols)-len(num_ohc_cols),'novos atributos')"
   ]
  },
  {
   "cell_type": "markdown",
   "metadata": {
    "run_control": {
     "marked": true
    }
   },
   "source": [
    "## Exercício 3\n",
    "\n",
    "Vamos criar uma nova base de dados onde todos os atributos categóricos são binarizados pelo procedimento one-hot-encoding. Podemos testar como isso afeta o modelo de regressão.\n",
    "\n",
    "* Usando o método `.copy()`  do dataframe, crie uma cópia para aplicar o one-hot encoding\n",
    "* Nesse novo dataframe, aplique o LabelEncoder seguido do OneHotEncoder para gerar os novos atributos. Não se esqueça de aplicar o método `.drop()` nas colunas originais.\n",
    "* Para a base original, aplique `.drop()` para todos os atributos categóricos.\n",
    "\n",
    "Para gerar o one-hot-encoding das variáveis, primeiro aplicaremos o `LabelEncoder` do Scikit-Learn para transformar as strings em números de ids. Após esse procedimento, podemos aplicar o `OneHotEncoder` para gerar os novos atributos."
   ]
  },
  {
   "cell_type": "code",
   "execution_count": 6,
   "metadata": {
    "run_control": {
     "marked": true
    }
   },
   "outputs": [],
   "source": [
    "from sklearn.preprocessing import OneHotEncoder, LabelEncoder\n",
    "\n",
    "# Copia dos dados\n",
    "data_ohc = data.copy()\n",
    "\n",
    "# Vamos codificar\n",
    "le = LabelEncoder()\n",
    "ohc = OneHotEncoder()\n",
    "\n",
    "# para cada coluna categórica\n",
    "for col in num_ohc_cols.index:\n",
    "    \n",
    "    # Aplique o método .fit_transform do LabelEncoder e especifique .astype(np.int)\n",
    "    # o reshape faz com que dat seja uma matriz multidimensional com uma coluna (ao invés de um vetor)\n",
    "    dat = le.fit_transform(data[col]).astype(np.int).reshape(-1,1)\n",
    "    \n",
    "    # Remova a coluna col da base de dados\n",
    "    data_ohc = data_ohc.drop(col, axis=1)\n",
    "    \n",
    "    # One hot encode the data--this returns a sparse array\n",
    "    new_dat = ohc.fit_transform(dat).toarray()\n",
    "    \n",
    "    # Vamos criar novos nomes de colunas\n",
    "    n_cols = new_dat.shape[1]\n",
    "    col_names = ['_'.join([col, str(x)]) for x in range(n_cols)]\n",
    "    \n",
    "    # Cria um novo dataframe a partir de new_dat e col_names, utilize o índice de data_ohc\n",
    "    new_df = pd.DataFrame(data=new_dat, index=data_ohc.index.values, columns=col_names)\n",
    "    \n",
    "    # Concatene data_ohc com new_df\n",
    "    data_ohc = pd.concat([data_ohc,new_df], axis=1)"
   ]
  },
  {
   "cell_type": "code",
   "execution_count": 7,
   "metadata": {
    "run_control": {
     "marked": true
    }
   },
   "outputs": [
    {
     "name": "stdout",
     "output_type": "stream",
     "text": [
      "A diferença é de 215\n"
     ]
    }
   ],
   "source": [
    "# Calcule a diferença entre a quantidade de atributos da base original e da base nova\n",
    "print('A diferença é de', data_ohc.shape[1]-data.shape[1])"
   ]
  },
  {
   "cell_type": "code",
   "execution_count": 8,
   "metadata": {
    "run_control": {
     "marked": true
    },
    "scrolled": true
   },
   "outputs": [
    {
     "name": "stdout",
     "output_type": "stream",
     "text": [
      "(1379, 80) com atributos categóricos\n",
      "(1379, 37) sem atributos categóricos\n"
     ]
    }
   ],
   "source": [
    "#imprima as dimensões dos dados originais\n",
    "print(data.shape,'com atributos categóricos')\n",
    "# Remova as colunas categóricas do dataframe original\n",
    "data = data.drop(categorical_cols,axis=1)\n",
    "#imprima as dimensões dos dados originais, sem os atributos categóricos\n",
    "print(data.shape,'sem atributos categóricos')"
   ]
  },
  {
   "cell_type": "markdown",
   "metadata": {
    "run_control": {
     "marked": true
    }
   },
   "source": [
    "## Exercício 4\n",
    "\n",
    "* Crie separações entre treino e teste para ambas as bases de dados. Para garantir a mesma divisão, use o mesmo valor para o parâmetro `random_state` em cada separação.\n",
    "* Para cada base de dados, aplique um modelo de Regressão Linear na base de treino.\n",
    "* Calcule o erro quadrático médio para a base de treino e base de teste de cada modelo. Qual modelo gera um erro menor na base de teste? Por que?"
   ]
  },
  {
   "cell_type": "code",
   "execution_count": 9,
   "metadata": {
    "run_control": {
     "marked": true
    }
   },
   "outputs": [],
   "source": [
    "from sklearn.model_selection import train_test_split\n",
    "\n",
    "y_col = 'SalePrice'\n",
    "\n",
    "# Faça a divisão da base original utilizando test_size=0.3 e random_state=42\n",
    "feature_cols = [x for x in data.columns if x != y_col]\n",
    "X_data = data[feature_cols]\n",
    "y_data = data[y_col]\n",
    "\n",
    "X_train, X_test, y_train, y_test = train_test_split(X_data, y_data, test_size=0.3, random_state=42)\n",
    "\n",
    "# Repita para a base data_ohc\n",
    "feature_cols = [x for x in data_ohc.columns if x!= y_col]\n",
    "X_data_ohc = data_ohc[feature_cols]\n",
    "y_data_ohc = data_ohc[y_col]\n",
    "\n",
    "X_train_ohc, X_test_ohc, y_train_ohc, y_test_ohc = train_test_split(X_data_ohc, y_data_ohc, test_size=0.3, random_state=42)"
   ]
  },
  {
   "cell_type": "code",
   "execution_count": 10,
   "metadata": {
    "run_control": {
     "marked": true
    }
   },
   "outputs": [
    {
     "data": {
      "text/plain": [
       "True"
      ]
     },
     "execution_count": 10,
     "metadata": {},
     "output_type": "execute_result"
    }
   ],
   "source": [
    "# Vamos comparar se os índices são os mesmos, o resultado deve ser True\n",
    "(X_train_ohc.index == X_train.index).all()"
   ]
  },
  {
   "cell_type": "code",
   "execution_count": 11,
   "metadata": {
    "run_control": {
     "marked": true
    }
   },
   "outputs": [
    {
     "data": {
      "text/html": [
       "<div>\n",
       "<style scoped>\n",
       "    .dataframe tbody tr th:only-of-type {\n",
       "        vertical-align: middle;\n",
       "    }\n",
       "\n",
       "    .dataframe tbody tr th {\n",
       "        vertical-align: top;\n",
       "    }\n",
       "\n",
       "    .dataframe thead th {\n",
       "        text-align: right;\n",
       "    }\n",
       "</style>\n",
       "<table border=\"1\" class=\"dataframe\">\n",
       "  <thead>\n",
       "    <tr style=\"text-align: right;\">\n",
       "      <th></th>\n",
       "      <th>no enc</th>\n",
       "      <th>one-hot enc</th>\n",
       "    </tr>\n",
       "  </thead>\n",
       "  <tbody>\n",
       "    <tr>\n",
       "      <th>test</th>\n",
       "      <td>1.372182e+09</td>\n",
       "      <td>1.147847e+19</td>\n",
       "    </tr>\n",
       "    <tr>\n",
       "      <th>train</th>\n",
       "      <td>1.131507e+09</td>\n",
       "      <td>3.177268e+08</td>\n",
       "    </tr>\n",
       "  </tbody>\n",
       "</table>\n",
       "</div>"
      ],
      "text/plain": [
       "             no enc   one-hot enc\n",
       "test   1.372182e+09  1.147847e+19\n",
       "train  1.131507e+09  3.177268e+08"
      ]
     },
     "execution_count": 11,
     "metadata": {},
     "output_type": "execute_result"
    }
   ],
   "source": [
    "from sklearn.linear_model import LinearRegression\n",
    "from sklearn.metrics import mean_squared_error\n",
    "\n",
    "LR = LinearRegression()\n",
    "\n",
    "# Lista para armazenar os erros das bases\n",
    "error_df = list()\n",
    "\n",
    "# Aplique .fit() na base de treino e predict na base de treino e teste\n",
    "LR.fit(X_train, y_train)\n",
    "y_train_pred = LR.predict(X_train)\n",
    "y_test_pred = LR.predict(X_test)\n",
    "\n",
    "error_df.append(pd.Series({'train': mean_squared_error(y_train, y_train_pred),\n",
    "                           'test' : mean_squared_error(y_test,  y_test_pred)},\n",
    "                           name='no enc'))\n",
    "\n",
    "# Repita para a base data_ohc\n",
    "LR.fit(X_train_ohc, y_train_ohc)\n",
    "y_train_ohc_pred = LR.predict(X_train_ohc)\n",
    "y_test_ohc_pred = LR.predict(X_test_ohc)\n",
    "\n",
    "error_df.append(pd.Series({'train': mean_squared_error(y_train_ohc, y_train_ohc_pred),\n",
    "                           'test' : mean_squared_error(y_test_ohc,  y_test_ohc_pred)},\n",
    "                          name='one-hot enc'))\n",
    "\n",
    "# Juntar os resultados em uma tabela\n",
    "error_df = pd.concat(error_df, axis=1)\n",
    "error_df"
   ]
  },
  {
   "cell_type": "markdown",
   "metadata": {
    "run_control": {
     "marked": true
    }
   },
   "source": [
    "Note que os valores de erro na base one-hot encoded são bem diferentes para o treino e teste. Isso ocorre pois os modelos com atributos categóricos gerarm um overfit da base. Na próxima lista tentaremos tratar esse problema conforme visto em sala de aula."
   ]
  },
  {
   "cell_type": "markdown",
   "metadata": {
    "run_control": {
     "marked": true
    }
   },
   "source": [
    "## Exercício 5\n",
    "\n",
    "Para ambas as bases:\n",
    "\n",
    "* Escale os atributos que não são categóricos (binários) utilizando um dos seguintes modelos: `StandardScaler`, `MinMaxScaler`, `MaxAbsScaler`.\n",
    "* Aplique novamente o modelo de regressão e recalcule os erros.\n",
    "\n",
    "Não se esqueça que você deve aplicar o método `.fit_transform()` apenas na base de treino e o método `.transform()` na base de teste. Explique o porque."
   ]
  },
  {
   "cell_type": "code",
   "execution_count": 12,
   "metadata": {},
   "outputs": [],
   "source": [
    "# Mute the setting wtih a copy warnings\n",
    "pd.options.mode.chained_assignment = None"
   ]
  },
  {
   "cell_type": "code",
   "execution_count": 13,
   "metadata": {
    "scrolled": true
   },
   "outputs": [
    {
     "name": "stdout",
     "output_type": "stream",
     "text": [
      "not_encoded - maxabsscaling          1.372284e+09\n",
      "not_encoded - minmaxscaling          1.372513e+09\n",
      "not_encoded - standardscaling        1.372182e+09\n",
      "one_hot_encoded - maxabsscaling      8.065328e+09\n",
      "one_hot_encoded - minmaxscaling      8.065328e+09\n",
      "one_hot_encoded - standardscaling    8.065328e+09\n",
      "--------------------------------------------------------------------------------\n",
      "not_encoded - maxabsscaling 1372284065.936621\n",
      "not_encoded - minmaxscaling 1372513478.1422882\n",
      "not_encoded - standardscaling 1372182358.934506\n",
      "one_hot_encoded - maxabsscaling 8065327607.229228\n",
      "one_hot_encoded - minmaxscaling 8065327607.203448\n",
      "one_hot_encoded - standardscaling 8065327607.2485895\n"
     ]
    }
   ],
   "source": [
    "from sklearn.preprocessing import StandardScaler, MinMaxScaler, MaxAbsScaler\n",
    "\n",
    "\n",
    "scalers = {'standard': StandardScaler(),\n",
    "           'minmax': MinMaxScaler(),\n",
    "           'maxabs': MaxAbsScaler()}\n",
    "\n",
    "training_test_sets = {\n",
    "    'not_encoded': (X_train, y_train, X_test, y_test),\n",
    "    'one_hot_encoded': (X_train_ohc, y_train_ohc, X_test_ohc, y_test_ohc)}\n",
    "\n",
    "\n",
    "# Lista de colunas numéricas\n",
    "mask = X_train.dtypes == np.float\n",
    "float_columns = X_train.columns[mask]\n",
    "\n",
    "# modelo de regressão\n",
    "LR = LinearRegression()\n",
    "\n",
    "# itera sobre todas as combinações de escala e bases\n",
    "errors = {}\n",
    "predictions = {}\n",
    "for encoding_label, (_X_train, _y_train, _X_test, _y_test) in training_test_sets.items():\n",
    "    for scaler_label, scaler in scalers.items():\n",
    "        trainingset = _X_train.copy()  # vamos fazer uma cópia para não bagunçar o original\n",
    "        testset = _X_test.copy()\n",
    "        trainingset[float_columns] = scaler.fit_transform(trainingset[float_columns])\n",
    "        testset[float_columns] = scaler.transform(testset[float_columns])\n",
    "        LR.fit(trainingset, _y_train)\n",
    "        key = encoding_label + ' - ' + scaler_label + 'scaling'\n",
    "        predictions[key] = LR.predict(testset)\n",
    "        errors[key] = mean_squared_error(_y_test, predictions[key])\n",
    "\n",
    "errors = pd.Series(errors)\n",
    "print(errors.to_string())\n",
    "print('-' * 80)\n",
    "for key, error_val in errors.items():\n",
    "    print(key, error_val)"
   ]
  },
  {
   "cell_type": "markdown",
   "metadata": {
    "run_control": {
     "marked": true
    }
   },
   "source": [
    "## Exercício 6\n",
    "\n",
    "Plote os valores preditos vs valores reais para um dos modelos gerados"
   ]
  },
  {
   "cell_type": "code",
   "execution_count": 19,
   "metadata": {
    "run_control": {
     "marked": true
    }
   },
   "outputs": [
    {
     "data": {
      "text/plain": [
       "<matplotlib.collections.PathCollection at 0x7f6daea09b70>"
      ]
     },
     "execution_count": 19,
     "metadata": {},
     "output_type": "execute_result"
    },
    {
     "data": {
      "image/png": "[encoded data removed]",
      "text/plain": [
       "<matplotlib.figure.Figure at 0x7f6daeb99ac8>"
      ]
     },
     "metadata": {},
     "output_type": "display_data"
    }
   ],
   "source": [
    "import matplotlib.pyplot as plt\n",
    "import seaborn as sns\n",
    "%matplotlib inline\n",
    "\n",
    "plot_data = pd.DataFrame([y_test, predictions['not_encoded - minmaxscaling']])\n",
    "plot_data = plot_data.transpose()\n",
    "\n",
    "fig, axis = plt.subplots()\n",
    "\n",
    "axis.set_title('valores reais vs predições')\n",
    "axis.set_xlabel('valores reais')\n",
    "axis.set_ylabel('valores preditos')\n",
    "\n",
    "axis.scatter(y_test, predictions['not_encoded - minmaxscaling'])"
   ]
  },
  {
   "cell_type": "code",
   "execution_count": null,
   "metadata": {},
   "outputs": [],
   "source": []
  }
 ],
 "metadata": {
  "anaconda-cloud": {},
  "kernelspec": {
   "display_name": "Python 3",
   "language": "python",
   "name": "python3"
  },
  "language_info": {
   "codemirror_mode": {
    "name": "ipython",
    "version": 3
   },
   "file_extension": ".py",
   "mimetype": "text/x-python",
   "name": "python",
   "nbconvert_exporter": "python",
   "pygments_lexer": "ipython3",
   "version": "3.6.4"
  },
  "name": "Train_Test_Splits_Regularization_Exercises-ANSWERS",
  "notebookId": 2125319687183944
 },
 "nbformat": 4,
 "nbformat_minor": 1
}
