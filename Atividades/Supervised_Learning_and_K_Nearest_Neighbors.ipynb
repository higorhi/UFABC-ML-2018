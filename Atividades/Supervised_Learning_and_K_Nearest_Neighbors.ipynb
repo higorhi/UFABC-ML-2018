{
 "cells": [
  {
   "cell_type": "markdown",
   "metadata": {},
   "source": [
    "# Aprendizado Supervisionado e K Vizinhos mais Próximos"
   ]
  },
  {
   "cell_type": "markdown",
   "metadata": {},
   "source": [
    "## Introdução\n",
    "\n",
    "Nós utilizaremos a base de dados de taxa de rejeição da indústria de telecomunicações para essa lista de exercícios. A base de dados tem o nome `Orange_Telecom_Churn_Data.csv`. Nesse notebook carregaremos a base de dados, faremos algum pré-processamento e usaremos a técnica k-NN para predizer a taxa de rejeição baseado nas características mensuradas."
   ]
  },
  {
   "cell_type": "markdown",
   "metadata": {},
   "source": [
    "## Exercício 1\n",
    "\n",
    "* Comece importando os dados através do pandas. Examine as colunas e os dados\n",
    "* Note que os dados contêm estado, código de área e telefone. Você acha que esses atributos são interessantes para construir nosso modelo de classificação? Por que?\n",
    "\n",
    "Não utilizaremos esses atributos para essa base, então eles podem ser removidos do dataframe (método `drop`)."
   ]
  },
  {
   "cell_type": "code",
   "execution_count": 34,
   "metadata": {
    "scrolled": true
   },
   "outputs": [],
   "source": [
    "import pandas as pd\n",
    "\n",
    "arquivo = 'data/Orange_Telecom_Churn_Data.csv'\n",
    "data = pd.read_csv(arquivo)\n",
    "data.drop(['state', 'area_code', 'phone_number'], axis = 1, inplace = True)"
   ]
  },
  {
   "cell_type": "markdown",
   "metadata": {},
   "source": [
    "## Exercício 2\n",
    "\n",
    "* Note que algumas das colunas são categóricas e algumas são *float*. Esses atributos precisam ser numéricos para usar os algoritmos que aprenderemos no curso.\n",
    "* Finalmente, o algoritmo K-Vizinhos mais próximos necessita de dados escalonados. Escalone os dados utilizando um dos métodos aprendidos em aula."
   ]
  },
  {
   "cell_type": "code",
   "execution_count": 36,
   "metadata": {
    "scrolled": true
   },
   "outputs": [],
   "source": [
    "import warnings\n",
    "warnings.filterwarnings('ignore', module='sklearn')\n",
    "\n",
    "from sklearn.preprocessing import MinMaxScaler, LabelBinarizer\n",
    "\n",
    "bin_cols = ['intl_plan', 'voice_mail_plan', 'churned']\n",
    "binarizer = LabelBinarizer()\n",
    "for col in bin_cols:\n",
    "    data[col] = binarizer.fit_transform(data[bin_cols[0]])\n",
    "\n",
    "scaler = MinMaxScaler()\n",
    "data_scaled = pd.DataFrame(scaler.fit_transform(data))\n",
    "data_scaled.columns = data.columns"
   ]
  },
  {
   "cell_type": "markdown",
   "metadata": {},
   "source": [
    "## Exercício 3\n",
    "\n",
    "* Separe as colunas de atributos (todas menos `churned`) da  coluna de rótulo (`churned`). Isso criará duas tabelas.\n",
    "* Aplique o método `.fit()` do K-nearest neighbors com um valor de `n_neighbors=3` para essa base de dados e verifique o resultado com o método `.predict()` na mesma base."
   ]
  },
  {
   "cell_type": "code",
   "execution_count": 84,
   "metadata": {
    "scrolled": false
   },
   "outputs": [],
   "source": [
    "from sklearn.neighbors import KNeighborsClassifier\n",
    "x_cols = [x for x in data.columns if x != 'churned']\n",
    "\n",
    "X_data = data[x_cols]\n",
    "y_data = data['churned']\n",
    "\n",
    "knc = KNeighborsClassifier(n_neighbors=3, metric='minkowski', p=2)\n",
    "knc.fit(X_data, y_data)\n",
    "predicted = knc.predict(X_data)"
   ]
  },
  {
   "cell_type": "markdown",
   "metadata": {},
   "source": [
    "## Exercício 4\n",
    "\n",
    "Ainda não ensinamos formas de medir o erro, mas a acurácia é um conceito simples de entender--é a porcentagem de rótulos que foram corretamente classificados:\n",
    "\n",
    "$acc = \\frac{corretos}{total}$\n",
    "\n",
    "* Escreva uma função para calcular a acurácia usando os rótulos verdadeiros e os preditos.\n",
    "* Usando a função, calcule a acurácia do K-nn nos dados."
   ]
  },
  {
   "cell_type": "code",
   "execution_count": 67,
   "metadata": {},
   "outputs": [
    {
     "name": "stdout",
     "output_type": "stream",
     "text": [
      "Accuracy = 91.14%\n"
     ]
    }
   ],
   "source": [
    "def accuracy(real, predict):\n",
    "    test = list(zip(real, predict))\n",
    "    acc = (sum([a==b for (a, b) in test]))/len(test)\n",
    "    return acc\n",
    "\n",
    "print('Accuracy = %.2f%%' % (accuracy(y_data, predicted)*100))"
   ]
  },
  {
   "cell_type": "markdown",
   "metadata": {},
   "source": [
    "## Exercício 5\n",
    "\n",
    "* Repita a aplicação do modelo K-nearest neighbors mas com o parâmetro `weights=distance`. Calcule a acurácia da função criada por você.\n",
    "* Repita a aplicação do modelo com `n_neighbors=3`, `weights=uniform` e `p=1` para utilizar a distância de Manhattan. Verifique os resultados.\n",
    "\n",
    "Quando as distâncias ponderadas são utilizadas para a parte 1 dessa questão, vocês obterão acurácia de 1.0. Por que isso ocorre? *Dica:* o KNN usa diretamente os dados para fazer a predição."
   ]
  },
  {
   "cell_type": "code",
   "execution_count": 88,
   "metadata": {},
   "outputs": [
    {
     "name": "stdout",
     "output_type": "stream",
     "text": [
      "Accuracy for 'distance' = 100.00%\n",
      "Accuracy for 'uniform' = 91.14%\n",
      "Accuracy for 'distance' = 100.00%\n",
      "Accuracy for = 91.48%\n"
     ]
    }
   ],
   "source": [
    "modes = ['distance', 'uniform']\n",
    "\n",
    "for m in modes:\n",
    "    knc = KNeighborsClassifier(n_neighbors=3, weights=m)\n",
    "    knc.fit(X_data, y_data)\n",
    "    predicted = knc.predict(X_data)\n",
    "    print('Accuracy for \\'%s\\' = %.2f%%' % (m, accuracy(y_data, predicted)*100))"
   ]
  },
  {
   "cell_type": "markdown",
   "metadata": {},
   "source": [
    "## Exercício 6\n",
    "\n",
    "* Teste o modelo KNN utilizando valores de `n_neighbors` na faixa de 1 a 20. Deixe o restante dos parâmetros como o padrão. Armazene os valores de vizinhos e acurácia em uma lista no formato [(k, acuracia)].\n",
    "* Plote um gráfico do tipo *scatter* da acurácia vs vizinhos. O que acontece com `n_neighbors=1`? Por que isso ocorre?"
   ]
  },
  {
   "cell_type": "code",
   "execution_count": 94,
   "metadata": {},
   "outputs": [],
   "source": [
    "score_list = list()\n",
    "\n",
    "'''escreva no bloco abaixo'''\n",
    "\n",
    "for k in range(1, 20):\n",
    "    knc = KNeighborsClassifier(n_neighbors=k)\n",
    "    knc.fit(X_data, y_data)\n",
    "    predicted = knc.predict(X_data)\n",
    "    acc = accuracy(y_data, predicted) * 100\n",
    "    score_list += [(k, acc)]\n",
    "\n",
    "'''fim do código'''\n",
    "\n",
    "score_df = pd.DataFrame(score_list, columns=['k', 'accuracy'])\n",
    "\n",
    "# n_neigbors = 1 causa a classificação por identidade direta,\n",
    "# uma vez que o conjunto de treino é o mesmo que o de testes"
   ]
  },
  {
   "cell_type": "code",
   "execution_count": 99,
   "metadata": {},
   "outputs": [
    {
     "data": {
      "text/plain": [
       "Text(0.5,0,'neighbors')"
      ]
     },
     "execution_count": 99,
     "metadata": {},
     "output_type": "execute_result"
    },
    {
     "data": {
      "image/png": "[encoded data removed]",
      "text/plain": [
       "<matplotlib.figure.Figure at 0x7f3264947518>"
      ]
     },
     "metadata": {},
     "output_type": "display_data"
    }
   ],
   "source": [
    "import matplotlib.pyplot as plt\n",
    "import seaborn as sns\n",
    "\n",
    "%matplotlib inline\n",
    "\n",
    "plt.figure()\n",
    "plt.scatter(score_df['k'], score_df['accuracy'])\n",
    "plt.ylabel('% accuracy')\n",
    "plt.xlabel('neighbors')\n",
    "\n",
    "# O gráfico representa uma curva assintótica no número de vizinhos,\n",
    "# demonstrando que o aumento de vizinhos faz o resultado convergir\n",
    "# para o valor onde n é máximo"
   ]
  },
  {
   "cell_type": "code",
   "execution_count": null,
   "metadata": {
    "collapsed": true
   },
   "outputs": [],
   "source": [
    "sns.set_context('talk')\n",
    "sns.set_style('ticks')\n",
    "sns.set_palette('dark')\n",
    "\n",
    "ax = score_df.set_index('k').plot()\n",
    "\n",
    "ax.set(xlabel='k', ylabel='accuracy')\n",
    "ax.set_xticks(range(1, 21));"
   ]
  }
 ],
 "metadata": {
  "anaconda-cloud": {},
  "kernelspec": {
   "display_name": "Python 3",
   "language": "python",
   "name": "python3"
  },
  "language_info": {
   "codemirror_mode": {
    "name": "ipython",
    "version": 3
   },
   "file_extension": ".py",
   "mimetype": "text/x-python",
   "name": "python",
   "nbconvert_exporter": "python",
   "pygments_lexer": "ipython3",
   "version": "3.6.4"
  },
  "name": "Linear_Regression_and_K_Nearest_Neighbors_Exercises-ANSWERS",
  "notebookId": 2125319687183902
 },
 "nbformat": 4,
 "nbformat_minor": 1
}
